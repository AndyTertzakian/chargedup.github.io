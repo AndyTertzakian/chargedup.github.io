{
 "cells": [
  {
   "cell_type": "code",
   "execution_count": 1,
   "metadata": {},
   "outputs": [],
   "source": [
    "    from kafka import *"
   ]
  },
  {
   "cell_type": "code",
   "execution_count": 2,
   "metadata": {},
   "outputs": [],
   "source": [
    "## Imports\n",
    "import json\n",
    "import time\n",
    "import urllib\n",
    "import requests\n",
    "import pandas as pd\n",
    "import seaborn as sns\n",
    "import altair as alt\n",
    "from vega_datasets import data\n",
    "from pandas.io.json import json_normalize\n",
    "import datetime as dt\n",
    "from datetime import timedelta\n",
    "import plotly.graph_objects as go\n",
    "from plotly.subplots import make_subplots\n",
    "import pytz\n",
    "# from fp.fp import FreeProxy\n",
    "# import pyspark.sql.functions as F\n",
    "import warnings\n",
    "import matplotlib.pyplot as plt\n",
    "import math\n",
    "# from keras.models import Model, Sequential\n",
    "# from pyspark.sql.types import *\n",
    "from folium import Map, CircleMarker, Vega, Popup\n",
    "import folium\n",
    "import vincent\n",
    "import numpy as np\n",
    "import math\n",
    "import branca"
   ]
  },
  {
   "cell_type": "code",
   "execution_count": 17,
   "metadata": {},
   "outputs": [],
   "source": [
    "station_to_coords = {\n",
    "                    ## Berkeley\n",
    "                    'Slrp': {\"lat\": 37.8739088, \"long\": -122.2617937, \"colour\": \"blue\"},\n",
    "                    \n",
    "                    ## Palo Alto\n",
    "                    'BRYANT': {\"lat\": 37.4467274, \"long\": -122.1630922, \"colour\": \"green\"},\n",
    "                    'WEBSTER': {\"lat\": 37.4484262,\"long\": -122.1620252, \"colour\": \"green\"},\n",
    "                    'HAMILTON': {\"lat\": 37.449283, \"long\": -122.1582532, \"colour\": \"green\"},\n",
    "                    'HIGH': {\"lat\": 37.4431333, \"long\": -122.1719076, \"colour\": \"green\"},\n",
    "                    'TED_THOMPSON': {\"lat\": 37.4279917, \"long\": -122.1449875, \"colour\": \"green\"}, # Parkade\n",
    "                    'MPL': {\"lat\": 37.422751, \"long\": -122.1140535, \"colour\": \"green\"}, # Mitchell Park Library\n",
    "                    'RINCONADA_LIB': {\"lat\": 37.4497552, \"long\": -122.1491587, \"colour\": \"green\"},\n",
    "                    'CAMBRIDGE': {\"lat\": 37.4272462, \"long\": -122.1460422, \"colour\": \"green\"}, \n",
    "                      \n",
    "                    ## Boulder\n",
    "                    #  '2280 Junction Pl': {\"lat\": 40.024670, \"long\": -105.251999, \"colour\": \"red\"},\n",
    "                    #  '1275 Alpine Ave': {\"lat\": 40.025871, \"long\": -105.280724, \"colour\": \"red\"},\n",
    "                    #  '900 Baseline Rd': {\"lat\": 39.999850, \"long\": -105.281390, \"colour\": \"red\"},\n",
    "                     '1745 14th street': {\"lat\": 40.015280, \"long\": -105.276370, \"colour\": \"red\"},\n",
    "                     '1500 Pearl St': {\"lat\": 40.0184689,\"long\":-105.2774864, \"colour\": \"red\"},\n",
    "                     '1770 13th St': {\"lat\": 40.0154509,\"long\":-105.2794388, \"colour\": \"red\"},\n",
    "                     '1360 Gillaspie Dr': {\"lat\": 39.9746415,\"long\":-105.2508207, \"colour\": \"red\"},\n",
    "                     '900 Walnut St': {\"lat\":40.0159843,\"long\":-105.2846621, \"colour\": \"red\"},\n",
    "                     '1100 Spruce St': {\"lat\":40.0185517,\"long\": -105.2836497, \"colour\": \"red\"},\n",
    "                     '1400 Walnut St': {\"lat\":40.0169488,\"long\": -105.2786352, \"colour\": \"red\"},\n",
    "                    #  '7315 Red Deer Dr': {\"lat\":40.0239185,\"long\": -105.1848833, \"colour\": \"red\"},\n",
    "                     '2052 Junction Pl':{\"lat\":40.0259532,\"long\": -105.2529939, \"colour\": \"red\"},\n",
    "                     '1100 Walnut': {\"lat\":40.0163663,\"long\": -105.2827991, \"colour\": \"red\"},\n",
    "                     '1739 Broadway': {\"lat\":40.0144993,\"long\": -105.2814581, \"colour\": \"red\"},\n",
    "                     '3172 Broadway': {\"lat\":40.0327682,\"long\": -105.2831966, \"colour\": \"red\"},\n",
    "                    #  '2150 13th St': {\"lat\":40.0198099,\"long\": -105.2811432, \"colour\": \"red\"},\n",
    "                     '5660 Sioux Dr': {\"lat\":39.9921117,\"long\": -105.222267, \"colour\": \"red\"},\n",
    "                     '5565 51st St': {\"lat\":40.0800904,\"long\": -105.2386908, \"colour\": \"red\"},\n",
    "                     '1505 30th St': {\"lat\":40.0126607,\"long\": -105.2571956, \"colour\": \"red\"},\n",
    "                     '3335 Airport Rd': {\"lat\":40.0373216,\"long\": -105.2327793, \"colour\": \"red\"},\n",
    "                     '600 Baseline Rd': {\"lat\":39.9987901,\"long\": -105.2848274, \"colour\": \"red\"},\n",
    "                    #  '5050 Pearl St': {\"lat\":40.0252908,\"long\": -105.2374913, \"colour\": \"red\"},\n",
    "                     '2667 Broadway': {\"lat\":40.0253516,\"long\": -105.2845029, \"colour\": \"red\"},\n",
    "                    #  '2240 Broadway': {\"lat\":40.0201865,\"long\": -105.2824309, \"colour\": \"red\"},\n",
    "                     '5333 Valmont Rd': {\"lat\":40.0297918,\"long\": -105.2320102, \"colour\": \"red\"}\n",
    "                    }"
   ]
  },
  {
   "cell_type": "code",
   "execution_count": 1,
   "metadata": {},
   "outputs": [
    {
     "ename": "NameError",
     "evalue": "name 'station_to_coords' is not defined",
     "output_type": "error",
     "traceback": [
      "\u001b[1;31m---------------------------------------------------------------------------\u001b[0m",
      "\u001b[1;31mNameError\u001b[0m                                 Traceback (most recent call last)",
      "\u001b[1;32mC:\\Users\\ANDYTE~1\\AppData\\Local\\Temp/ipykernel_11280/1651860420.py\u001b[0m in \u001b[0;36m<module>\u001b[1;34m\u001b[0m\n\u001b[0;32m      1\u001b[0m \u001b[1;31m# map_df = station_df_dict[\"BRYANT\"][\"errs\"]\u001b[0m\u001b[1;33m\u001b[0m\u001b[1;33m\u001b[0m\u001b[1;33m\u001b[0m\u001b[0m\n\u001b[0;32m      2\u001b[0m \u001b[1;33m\u001b[0m\u001b[0m\n\u001b[1;32m----> 3\u001b[1;33m \u001b[0mstations\u001b[0m \u001b[1;33m=\u001b[0m \u001b[1;33m[\u001b[0m\u001b[0mstation_name\u001b[0m \u001b[1;32mfor\u001b[0m \u001b[0mstation_name\u001b[0m \u001b[1;32min\u001b[0m \u001b[0mstation_to_coords\u001b[0m\u001b[1;33m]\u001b[0m\u001b[1;33m\u001b[0m\u001b[1;33m\u001b[0m\u001b[0m\n\u001b[0m\u001b[0;32m      4\u001b[0m \u001b[0mlats\u001b[0m \u001b[1;33m=\u001b[0m \u001b[1;33m[\u001b[0m\u001b[0mstation_to_coords\u001b[0m\u001b[1;33m[\u001b[0m\u001b[0mstation\u001b[0m\u001b[1;33m]\u001b[0m\u001b[1;33m[\u001b[0m\u001b[1;34m\"lat\"\u001b[0m\u001b[1;33m]\u001b[0m \u001b[1;32mfor\u001b[0m \u001b[0mstation\u001b[0m \u001b[1;32min\u001b[0m \u001b[1;33m[\u001b[0m\u001b[0mstation_name\u001b[0m \u001b[1;32mfor\u001b[0m \u001b[0mstation_name\u001b[0m \u001b[1;32min\u001b[0m \u001b[0mstation_to_coords\u001b[0m\u001b[1;33m]\u001b[0m\u001b[1;33m]\u001b[0m\u001b[1;33m\u001b[0m\u001b[1;33m\u001b[0m\u001b[0m\n\u001b[0;32m      5\u001b[0m \u001b[0mlons\u001b[0m \u001b[1;33m=\u001b[0m \u001b[1;33m[\u001b[0m\u001b[0mstation_to_coords\u001b[0m\u001b[1;33m[\u001b[0m\u001b[0mstation\u001b[0m\u001b[1;33m]\u001b[0m\u001b[1;33m[\u001b[0m\u001b[1;34m\"long\"\u001b[0m\u001b[1;33m]\u001b[0m \u001b[1;32mfor\u001b[0m \u001b[0mstation\u001b[0m \u001b[1;32min\u001b[0m \u001b[1;33m[\u001b[0m\u001b[0mstation_name\u001b[0m \u001b[1;32mfor\u001b[0m \u001b[0mstation_name\u001b[0m \u001b[1;32min\u001b[0m \u001b[0mstation_to_coords\u001b[0m\u001b[1;33m]\u001b[0m\u001b[1;33m]\u001b[0m\u001b[1;33m\u001b[0m\u001b[1;33m\u001b[0m\u001b[0m\n",
      "\u001b[1;31mNameError\u001b[0m: name 'station_to_coords' is not defined"
     ]
    }
   ],
   "source": [
    "# map_df = station_df_dict[\"BRYANT\"][\"errs\"]\n",
    "\n",
    "stations = [station_name for station_name in station_to_coords]\n",
    "lats = [station_to_coords[station][\"lat\"] for station in [station_name for station_name in station_to_coords]]\n",
    "lons = [station_to_coords[station][\"long\"] for station in [station_name for station_name in station_to_coords]]\n",
    "\n",
    "\n",
    "locations = zip(stations, lats, lons)\n",
    "locations\n",
    "\n",
    "m = folium.Map(location=[37.772256900293655, -113.84000384362366], tiles=\"Stamen Terrain\", zoom_start=6)\n",
    "# for station, lat, lon in locations:\n",
    "for station in station_to_coords:\n",
    "    lat, lon, colour = station_to_coords[station][\"lat\"], station_to_coords[station][\"long\"], station_to_coords[station][\"colour\"]\n",
    "\n",
    "    station_name = station.replace(\" \", \"_\")\n",
    "    url = f\"https://andytertzakian.github.io/chargedup.github.io/maps/{station_name}.html\"\n",
    "    html=\"\"\"<iframe src=\\\"\"\"\" + url + \"\"\"\\\" width=\"850\" height=\"400\"  frameborder=\"0\">\"\"\"\n",
    "\n",
    "    popup = folium.Popup(folium.Html(html, script=True))\n",
    "\n",
    "    folium.Marker([lat, lon],\n",
    "                  popup = popup,\n",
    "                  icon=folium.Icon(color=colour, icon=\"bolt\", prefix='fa-solid fa')).add_to(m)\n",
    "m"
   ]
  },
  {
   "cell_type": "code",
   "execution_count": 19,
   "metadata": {},
   "outputs": [],
   "source": [
    "m.save(\"MAP.html\")"
   ]
  }
 ],
 "metadata": {
  "kernelspec": {
   "display_name": "Python 3.7.4",
   "language": "python",
   "name": "python3"
  },
  "language_info": {
   "codemirror_mode": {
    "name": "ipython",
    "version": 3
   },
   "file_extension": ".py",
   "mimetype": "text/x-python",
   "name": "python",
   "nbconvert_exporter": "python",
   "pygments_lexer": "ipython3",
   "version": "3.7.4"
  },
  "orig_nbformat": 4,
  "vscode": {
   "interpreter": {
    "hash": "30040729a230d4de3e2b18a9dd51c0f0c53200176bf28f92379fd014c1434ae0"
   }
  }
 },
 "nbformat": 4,
 "nbformat_minor": 2
}
